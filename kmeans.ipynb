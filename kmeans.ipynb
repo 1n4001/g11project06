{
 "cells": [
  {
   "cell_type": "code",
   "execution_count": 253,
   "metadata": {},
   "outputs": [
    {
     "name": "stdout",
     "output_type": "stream",
     "text": [
      "[[ 2.71506328  1.2908219 ]\n",
      " [ 0.70993435  3.70954839]\n",
      " [ 0.87189643  4.35069202]\n",
      " [ 0.70763011  4.41985808]\n",
      " [ 2.73124907  0.24970475]]\n",
      "[1 0 0 0 1 0 0 1 2 0 1 2 2 0 0 2 2 1 2 1 0 1 0 0 2 1 1 0 2 1 2 2 2 2 0 1 1\n",
      " 1 0 0 2 2 0 1 1 1 2 0 2 0 1 0 0 1 1 2 0 1 2 0 2 2 2 2 0 2 0 1 0 0 0 1 1 0\n",
      " 1 0 0 2 2 0 1 1 0 0 1 1 1 2 2 1 1 0 1 0 1 0 2 2 1 1 1 1 2 1 1 0 2 0 0 0 2\n",
      " 0 1 2 0 2 0 0 2 2 0 1 0 0 1 1 2 1 2 2 2 2 1 2 2 2 0 2 1 2 0 0 1 1 2 2 2 2\n",
      " 1 1]\n"
     ]
    }
   ],
   "source": [
    "import numpy as np\n",
    "import scipy.spatial as spt\n",
    "from sklearn.datasets import make_blobs\n",
    "\n",
    "X, y = make_blobs(n_samples=150,\n",
    "                  n_features=2,\n",
    "                  centers=3,\n",
    "                  cluster_std=[0.3,0.6,0.5],\n",
    "                  shuffle=True,\n",
    "                  random_state=0)\n",
    "print(X[0:5,:])\n",
    "print(y)"
   ]
  },
  {
   "cell_type": "code",
   "execution_count": 254,
   "metadata": {},
   "outputs": [
    {
     "data": {
      "image/png": "[encoded data removed]",
      "text/plain": [
       "<matplotlib.figure.Figure at 0x16f5a659048>"
      ]
     },
     "metadata": {},
     "output_type": "display_data"
    }
   ],
   "source": [
    "import matplotlib.pyplot as plt\n",
    "plt.scatter(X[:, 0],\n",
    "            X[:, 1],\n",
    "            c='white',\n",
    "            marker='o',\n",
    "            edgecolors='black',\n",
    "            s=50)\n",
    "plt.grid()\n",
    "plt.show()"
   ]
  },
  {
   "cell_type": "code",
   "execution_count": 260,
   "metadata": {},
   "outputs": [],
   "source": [
    "def kmeans(X,\n",
    "           eta=0.1,\n",
    "           n_clusters=1,\n",
    "           n_iter=1,\n",
    "           max_iter=100,\n",
    "           tol=1e-6,\n",
    "           random_state=None):\n",
    "    np.random.seed(random_state)\n",
    "    \n",
    "    # Initialize centroids to n_clusters random data points\n",
    "    centroids = X[np.random.choice(X.shape[0], n_clusters, replace=False)]\n",
    "    \n",
    "    for i in range(max_iter):\n",
    "        # Calculate the distance between each data point and centroid\n",
    "        distances = spt.distance.cdist(X, centroids, 'euclidean')\n",
    "        \n",
    "        # Calculate the index of the closest centroid\n",
    "        fit = np.argmin(distances, axis=1)\n",
    "        \n",
    "        # Update the centroid values\n",
    "        for k in range(n_clusters):\n",
    "            for n in range(X.shape[1]):\n",
    "                centroids[k][n] = centroids[k][n] + eta * (np.mean(X[k == fit][:,n]) - centroids[k][n])\n",
    "    return fit, centroids"
   ]
  },
  {
   "cell_type": "code",
   "execution_count": 267,
   "metadata": {},
   "outputs": [
    {
     "name": "stdout",
     "output_type": "stream",
     "text": [
      "y_km =\n",
      " [1 0 0 0 1 0 0 1 2 0 1 2 2 0 0 2 2 1 2 1 0 1 0 0 2 1 1 0 2 1 2 2 2 2 0 1 1\n",
      " 1 0 0 2 2 0 1 1 1 2 0 2 0 1 0 0 1 1 2 0 1 2 0 2 2 2 2 0 2 0 1 0 0 0 1 1 0\n",
      " 1 0 0 2 2 0 1 1 0 0 1 1 1 2 2 1 1 0 1 0 1 0 2 2 1 1 1 1 2 1 1 0 2 0 0 0 2\n",
      " 0 1 2 0 2 0 0 2 2 0 1 0 0 1 1 2 1 2 2 2 2 1 2 2 2 0 2 1 2 0 0 1 1 2 2 2 2\n",
      " 1 1]\n",
      "centroids_km =\n",
      " [[ 0.95030937  4.33401232]\n",
      " [ 2.06704246  0.97418652]\n",
      " [-1.59474542  2.92238621]]\n"
     ]
    }
   ],
   "source": [
    "y_km, centroids_km = kmeans(X, eta=0.1, n_clusters=3, random_state=0)\n",
    "print(\"y_km =\\n\", y_km)\n",
    "print(\"centroids_km =\\n\", centroids_km)"
   ]
  },
  {
   "cell_type": "code",
   "execution_count": 268,
   "metadata": {},
   "outputs": [
    {
     "data": {
      "image/png": "[encoded data removed]",
      "text/plain": [
       "<matplotlib.figure.Figure at 0x16f5a5df9e8>"
      ]
     },
     "metadata": {},
     "output_type": "display_data"
    }
   ],
   "source": [
    "plt.clf()\n",
    "plt.scatter(X[y_km==0, 0],\n",
    "            X[y_km==0, 1],\n",
    "            s=50,\n",
    "            c='lawngreen',\n",
    "            marker='s',\n",
    "            label='cluster 1')\n",
    "plt.scatter(X[y_km==1, 0],\n",
    "            X[y_km==1, 1],\n",
    "            s=50,\n",
    "            c='orange',\n",
    "            marker='o',\n",
    "            label='cluster 2')\n",
    "plt.scatter(X[y_km==2, 0],\n",
    "            X[y_km==2, 1],\n",
    "            s=50,\n",
    "            c='deepskyblue',\n",
    "            marker='s',\n",
    "            label='cluster 3')\n",
    "plt.scatter(centroids_km[:, 0],\n",
    "            centroids_km[:, 1],\n",
    "            s=250,\n",
    "            marker='*',\n",
    "            c='red',\n",
    "            label='centroids')\n",
    "plt.legend()\n",
    "plt.grid()\n",
    "plt.show()"
   ]
  },
  {
   "cell_type": "code",
   "execution_count": 269,
   "metadata": {},
   "outputs": [],
   "source": [
    "def gaussianMixture(X,\n",
    "                    eta=0.1,\n",
    "                    n_components=1,\n",
    "                    tol=1e-6,\n",
    "                    max_iter=100,\n",
    "                    n_init=10,\n",
    "                    means_init=None,\n",
    "                    random_state=None):\n",
    "    # Initialize means\n",
    "    if means_init == None:\n",
    "        y_km, centroids = kmeans(X, eta=eta, n_clusters=n_components, random_state=random_state)\n",
    "    else:\n",
    "        centroids = means_init\n",
    "    \n",
    "    # Initialize covariances\n",
    "    # Initialize mixing coefficients\n",
    "\n",
    "    \n",
    "#gmm.fit(X)\n",
    "#y_gmm = gmm.predict(X)\n",
    "#print(y_gmm)\n",
    "#print(gmm.means_)"
   ]
  },
  {
   "cell_type": "code",
   "execution_count": 270,
   "metadata": {},
   "outputs": [
    {
     "ename": "ValueError",
     "evalue": "The truth value of an array with more than one element is ambiguous. Use a.any() or a.all()",
     "output_type": "error",
     "traceback": [
      "\u001b[1;31m---------------------------------------------------------------------------\u001b[0m",
      "\u001b[1;31mValueError\u001b[0m                                Traceback (most recent call last)",
      "\u001b[1;32m<ipython-input-270-4caa3c2892e9>\u001b[0m in \u001b[0;36m<module>\u001b[1;34m()\u001b[0m\n\u001b[1;32m----> 1\u001b[1;33m \u001b[0mgaussianMixture\u001b[0m\u001b[1;33m(\u001b[0m\u001b[0mX\u001b[0m\u001b[1;33m,\u001b[0m \u001b[0meta\u001b[0m\u001b[1;33m=\u001b[0m\u001b[1;36m0.1\u001b[0m\u001b[1;33m,\u001b[0m \u001b[0mn_components\u001b[0m\u001b[1;33m=\u001b[0m\u001b[1;36m3\u001b[0m\u001b[1;33m,\u001b[0m \u001b[0mmeans_init\u001b[0m\u001b[1;33m=\u001b[0m\u001b[0mcentroids_km\u001b[0m\u001b[1;33m,\u001b[0m \u001b[0mrandom_state\u001b[0m\u001b[1;33m=\u001b[0m\u001b[1;36m0\u001b[0m\u001b[1;33m)\u001b[0m\u001b[1;33m\u001b[0m\u001b[0m\n\u001b[0m",
      "\u001b[1;32m<ipython-input-269-41db0ac79e86>\u001b[0m in \u001b[0;36mgaussianMixture\u001b[1;34m(X, eta, n_components, tol, max_iter, n_init, means_init, random_state)\u001b[0m\n\u001b[0;32m      8\u001b[0m                     random_state=None):\n\u001b[0;32m      9\u001b[0m     \u001b[1;31m# Initialize means\u001b[0m\u001b[1;33m\u001b[0m\u001b[1;33m\u001b[0m\u001b[0m\n\u001b[1;32m---> 10\u001b[1;33m     \u001b[1;32mif\u001b[0m \u001b[0mmeans_init\u001b[0m \u001b[1;33m==\u001b[0m \u001b[1;32mNone\u001b[0m\u001b[1;33m:\u001b[0m\u001b[1;33m\u001b[0m\u001b[0m\n\u001b[0m\u001b[0;32m     11\u001b[0m         \u001b[0my_km\u001b[0m\u001b[1;33m,\u001b[0m \u001b[0mcentroids\u001b[0m \u001b[1;33m=\u001b[0m \u001b[0mkmeans\u001b[0m\u001b[1;33m(\u001b[0m\u001b[0mX\u001b[0m\u001b[1;33m,\u001b[0m \u001b[0meta\u001b[0m\u001b[1;33m=\u001b[0m\u001b[0meta\u001b[0m\u001b[1;33m,\u001b[0m \u001b[0mn_clusters\u001b[0m\u001b[1;33m=\u001b[0m\u001b[0mn_components\u001b[0m\u001b[1;33m,\u001b[0m \u001b[0mrandom_state\u001b[0m\u001b[1;33m=\u001b[0m\u001b[0mrandom_state\u001b[0m\u001b[1;33m)\u001b[0m\u001b[1;33m\u001b[0m\u001b[0m\n\u001b[0;32m     12\u001b[0m     \u001b[1;32melse\u001b[0m\u001b[1;33m:\u001b[0m\u001b[1;33m\u001b[0m\u001b[0m\n",
      "\u001b[1;31mValueError\u001b[0m: The truth value of an array with more than one element is ambiguous. Use a.any() or a.all()"
     ]
    }
   ],
   "source": [
    "gaussianMixture(X, eta=0.1, n_components=3, means_init=centroids_km, random_state=0)"
   ]
  },
  {
   "cell_type": "code",
   "execution_count": null,
   "metadata": {
    "collapsed": true
   },
   "outputs": [],
   "source": []
  }
 ],
 "metadata": {
  "kernelspec": {
   "display_name": "Python 3",
   "language": "python",
   "name": "python3"
  },
  "language_info": {
   "codemirror_mode": {
    "name": "ipython",
    "version": 3
   },
   "file_extension": ".py",
   "mimetype": "text/x-python",
   "name": "python",
   "nbconvert_exporter": "python",
   "pygments_lexer": "ipython3",
   "version": "3.6.2"
  }
 },
 "nbformat": 4,
 "nbformat_minor": 2
}
